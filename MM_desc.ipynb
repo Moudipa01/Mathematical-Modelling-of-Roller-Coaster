{
 "cells": [
  {
   "cell_type": "markdown",
   "id": "799f0e54-ed03-4323-a04f-8e4fecdb913d",
   "metadata": {},
   "source": [
    "Abstract"
   ]
  },
  {
   "cell_type": "raw",
   "id": "180c360b-6f54-4fa3-98ae-86e0c4f41e5f",
   "metadata": {},
   "source": [
    "Keywords:\n",
    "Projectile Motion, Roller Coasters, Valley Out"
   ]
  },
  {
   "cell_type": "markdown",
   "id": "a239bef3-93a8-4b2c-94f8-18a53fdcf4d4",
   "metadata": {},
   "source": [
    "Problem Statement"
   ]
  },
  {
   "cell_type": "raw",
   "id": "9ee1a763-1252-406b-a0cb-b1defa9d3872",
   "metadata": {},
   "source": [
    "Your city wants to setup a roller-coaster that is stretched all around the city. Design a MM\n",
    "answering questions like cost of setup and maintenance, ticket price, energy requirements,\n",
    "effect on happiness of the people etc. "
   ]
  },
  {
   "cell_type": "markdown",
   "id": "b83717ab-3950-456e-9d76-a7dd8e106a07",
   "metadata": {},
   "source": [
    "Introduction\n"
   ]
  },
  {
   "cell_type": "raw",
   "id": "91a5d3a6-f7d5-43f9-9f4c-ee4a7b1c1de6",
   "metadata": {},
   "source": [
    "Roller coaster, elevated railway with steep inclines and descents that carries a train of\n",
    "passengers through sharp curves and sudden changes of speed and direction for a brief\n",
    "thrill ride. Found mostly in amusement parks as a continuous loop, it is a\n",
    "popular leisure activity."
   ]
  },
  {
   "cell_type": "markdown",
   "id": "8da283e8-841b-405e-a216-611436da3e4a",
   "metadata": {},
   "source": [
    "Describing a Roller Coaster"
   ]
  },
  {
   "cell_type": "markdown",
   "id": "e8ff4586-8723-4afc-bfae-c669e7dc5183",
   "metadata": {},
   "source": [
    "Mechanism –"
   ]
  },
  {
   "cell_type": "raw",
   "id": "8e01a6a5-6ff2-4344-a53c-dcacf703967f",
   "metadata": {},
   "source": [
    "Roller coaster trains are not typically powered. Most are pulled up a lift hill by a chain or\n",
    "cable and released downhill.\n",
    "The potential energy accumulated by the rise in height is transferred to kinetic\n",
    "energy, which is then converted back into potential energy as the train rises up the\n",
    "next hill.\n",
    "Changes in elevation become smaller throughout the track's course, as some\n",
    "mechanical energy is lost to friction. A properly-designed, outdoor track will result in a\n",
    "train having enough kinetic energy to complete the entire course under a variety of\n",
    "stressful weather conditions."
   ]
  },
  {
   "cell_type": "markdown",
   "id": "e8146123-183e-43aa-add1-57a48ebc1282",
   "metadata": {},
   "source": [
    "ELEMENTS / PARTS THAT MAKE UP A ROLLER COASTER –"
   ]
  },
  {
   "cell_type": "raw",
   "id": "90fa3b59-2ebd-4b08-abf1-a09fa124720a",
   "metadata": {},
   "source": [
    "Roller Coaster is an amusement ride. So, we always want the rider to experience a\n",
    "thrilling ride.\n",
    "Roller coaster elements are the individual parts of roller coaster design and operation,\n",
    "such as a track, hill, loop, or turn.\n",
    "Variations in normal track movement that add thrill or excitement to the ride are often\n",
    "called \"thrill elements\".\n",
    "\n",
    "Launch Track - A launch track is a section of a launched roller coaster in which\n",
    "the train is accelerated to its full speed in a matter of seconds. A launch track is always\n",
    "straight and is usually banked upward slightly, so that a train would roll backward to the\n",
    "station in the event of a loss of power\n",
    "For example,the Ferrari Rossa uses a hydraulic launch system which propels the roller\n",
    "coaster to a speed of 240 km/hr in just 250 m\n",
    "\n",
    "Lift Hill - A lift hill, or chain lift, is often the initial upward section of track on a typical\n",
    "roller coaster that initially transports the roller coaster train to an elevated point. Upon\n",
    "reaching the top, the train is then disengaged from the lift hill and allowed to coast\n",
    "through the rest of the roller coaster's circuit.\n",
    "\n",
    "Station - The station is the area where guests waiting in a line queue board a roller\n",
    "coaster. The line often divides into lanes to allow guests to board each row. In addition to\n",
    "boarding, passengers also exit the ride within the station, but this is not always at the\n",
    "same location where boarding passengers are waiting.\n",
    "\n",
    "Banked turn - A banked turn is when the track twists from the horizontal plane\n",
    "into the vertical plane, tipping the train to the side in the direction of the turn. Banking is\n",
    "used to minimize the lateral G-forces on the riders to make the turn more comfortable.\n",
    "\n",
    "Braker Run - A brake run on a roller coaster is any section of track meant to slow or\n",
    "stop a roller coaster train. Brake runs may be located anywhere or hidden along the\n",
    "circuit of a coaster and may be designed to bring the train to a complete halt or to simply\n",
    "adjust the train's speed.\n",
    "\n",
    "Head Chopper - A head chopper is any point on a roller coaster where the support\n",
    "structure of the ride or the track itself comes very close to the passengers' heads, or at\n",
    "least appears to do so.\n",
    "All head choppers are, of course, designed so that even the tallest rider, with both hands\n",
    "up, would be unable to touch the structure; although if a rider exceeding the maximum\n",
    "height does board the coaster it could be potentially dangerous.\n",
    "\n",
    "Helix- A helix is a balanced spiral, generally exceeding 360°. Helixes can spiral\n",
    "upward or downward.\n",
    "\n",
    "Tunnels - Some roller coasters feature tunnels, and they may include special effects\n",
    "such as lighting, fog, and sound. The Iron Rattler at Six Flags Fiesta Texas, for example,\n",
    "features a darkened, above-ground tunnel. \n"
   ]
  },
  {
   "cell_type": "markdown",
   "id": "3823df18-15af-4001-a1e2-11a3e04b1a29",
   "metadata": {},
   "source": [
    "MAIN ASSUMPTIONS MADE"
   ]
  },
  {
   "cell_type": "raw",
   "id": "64436ad8-1b05-49b2-9de1-dbf9ff8d26b1",
   "metadata": {},
   "source": [
    "As mentioned in the question. It is\n",
    "mentioned that we need to design a roller\n",
    "coaster “stretching” across the city . It is\n",
    "not mentioned whether the entire track\n",
    "has to loop around the city or whether we\n",
    "plan to build multiple roller coaster tracks\n",
    "stretching around the city.\n",
    "So for our modelling we assume that we build a roller coaster which covers approx. … area .\n",
    "And to in order to fulfil the criteria of “stretching across the city “ we ensure that we have\n",
    "multiple roller coaster / amusement parks across the city.\n",
    "Though Roller coaster are of several types and has several features, we assume that our\n",
    "roller coaster is a traditional “sit-down” roller coaster.\n"
   ]
  },
  {
   "cell_type": "markdown",
   "id": "42b25323-35f9-4460-8be3-a74f1323731f",
   "metadata": {},
   "source": [
    "QUESTION TO BE ANSWERED "
   ]
  },
  {
   "cell_type": "raw",
   "id": "9de2206d-b252-40dd-b103-4cac8b93956e",
   "metadata": {},
   "source": [
    "1. HOW TO BUILD A ROLLER COASTER ?\n",
    "Before even answering the problem, we need a simple mechanical model which\n",
    "can give such useful information such as the speed of roller coaster , the normal\n",
    "reaction on the track surface, change in inclination , lateral forces experienced .\n",
    "These useful information helps us the later questions\n",
    "We start with a simple model of just hills , planar curves , and circular loops\n",
    "Later we discuss the flaws of the mechanical model and what are the\n",
    "improvements that can be made.\n",
    "2. DESIGNING A THRILL FACTOR FUNCTION , PROFIT MODEL ,\n",
    "RUNNING COST MODEL\n",
    "Using the insights gained from the mechanical model we discuss about a thrill\n",
    "factor and how we can use our thrill factor function as a metric to make our roller\n",
    "coaster more exciting and thrilling\n",
    "To make any business successful it should make a profit , a elaborate profit\n",
    "model is designed such that it includes factors like region of the roller coaster ,\n",
    "demography of the region , and also our thrill factor function \n",
    "To aid the profit model , we have also discussed in brief about the running cost\n",
    "model "
   ]
  },
  {
   "cell_type": "raw",
   "id": "bdd8057a-a23c-4ec0-9bc4-58658bea5b24",
   "metadata": {},
   "source": [
    "SIMPLE MECHANICAL MODEL\n",
    "We assume that our roller coaster is made of five simple components:\n",
    "1. Lift Hill\n",
    "2. curves\n",
    "3. Circular loops\n",
    "4. Final braking zone"
   ]
  },
  {
   "cell_type": "markdown",
   "id": "d6507475-8099-41f1-95d9-47902205e683",
   "metadata": {},
   "source": [
    "ESTIMATING A CLIMB /DROP CURVE AS CUBIC\n",
    "POLYNOMIAL\n"
   ]
  },
  {
   "cell_type": "raw",
   "id": "24ad3d0f-f377-49f4-9736-a3c2322689d1",
   "metadata": {},
   "source": [
    "A hill is a 2d curve aligned in the vertical plane and takes the roller coaster from one\n",
    "height to another.\n",
    "To design the curve let us assume a 2 D coordinate system. So, assume that the roller\n",
    "coaster enters the curve at (0,0,0) and the roller coaster exits at point (R,H,0) where R is\n",
    "defined as Range of the curve and H is defined as Height of the curve.\n",
    "For sake of simplicity we use the XY plane only there by we use coordinates of the form\n",
    "(x,y) in the following explanation\n",
    "We want a function y = f(x) which is a cubic polynomial which satisfies above\n",
    "parameters . also, the slope of the curve at (0,0) and at (R,H) is 0 "
   ]
  },
  {
   "cell_type": "markdown",
   "id": "c875b740-3a7e-4cde-8915-61fab68d74d9",
   "metadata": {},
   "source": [
    "MECHANICS OF THE POLYNOMIAL CURVE"
   ]
  },
  {
   "cell_type": "raw",
   "id": "ac811004-6626-42d4-839a-4c47900f77cd",
   "metadata": {},
   "source": [
    "Assumption:\n",
    "Consider the roller coaster enters the track element with a speed of u m/s, entire roller\n",
    "is assumed to be a point particle of mass m. We neglect friction between the rails and\n",
    "drag produced by the motion of the coaster.\n",
    "Now any continuous and differentiable curve at a point can be approximated using\n",
    "radius of curvature concept\n",
    "We use the concept of radius of curvature to estimate the forces experienced by the\n",
    "roller coaster at a particular point (Refer appendix 1.2 for the calculations involved)\n",
    "Say at a point K (t,f(t)) radius of the curvature is r(t) where r(x) is a function which gives the\n",
    "radius of curvature at x.\n",
    "Since energy is conserved as there are no drag forces, we have …"
   ]
  },
  {
   "cell_type": "markdown",
   "id": "083065b9-3638-4f37-bf0a-2531ee53e348",
   "metadata": {},
   "source": [
    "Velocity vs position curve"
   ]
  },
  {
   "cell_type": "raw",
   "id": "0d99f8fe-61d3-4a45-b64f-ee8c10aa133d",
   "metadata": {},
   "source": [
    "In the following curves green line denotes the velocity function v(t) as in (2.1) ,\n",
    "orange(dashed) curve denotes the polynomial curve y= f(x) = lx^2-kx^3 … (1.1) track for the\n",
    "roller coaster.\n"
   ]
  },
  {
   "cell_type": "markdown",
   "id": "a4fa70a4-b085-404b-83d1-05d957467216",
   "metadata": {},
   "source": [
    "MECHANICS BEHIND A INCLINED CURVE"
   ]
  },
  {
   "cell_type": "raw",
   "id": "2b53ec82-31a9-4aa9-942d-1f9cdcf73a0d",
   "metadata": {},
   "source": [
    "Since we had already assumed that our roller coaster starts from ground level . and there\n",
    "are no external forces . hence kinetic energy of the body K.E = initial KE – mgh ;\n",
    "Now the lateral force experienced by a rider in the coaster is same as the centripetal\n",
    "acceleration of the coaster. Which is mv2/R and since ½mv2 = K.E(i)-mgh we have following\n",
    "Lateral acceleration = F/m\n",
    "Now suppose we have following horizontal roller coaster Now we can calculate radius\n",
    "curvature using the formulas in appendix 1.2\n",
    "And we also know that initial kinetic energy is fixed and height is also fixed hence we can\n",
    "directly correlate force experienced by rider to the x coordinate of the curve as Radius of\n",
    "curvature can be given as z= f(x)\n",
    "We usually don’t always use planar curves in roller coaster as it is let’s say too boring.\n",
    "Now we can actually integrate the two models but it is beyond the scope of our discussion (\n",
    "refer appendix 1.6 for how to integrate the two model… that is how to mix hills with planar\n",
    "curves to make it more realistic )\n",
    "Also by using this model we can tweak our curves such that the change in forces is smooth\n",
    "and safe.\n",
    "\n",
    "Reason why tracks are banked?\n",
    "The banking angle of the curve is to prevent\n",
    "too high of lateral forces, injuring the riders.\n",
    "Also if lateral forces are too high the roller\n",
    "coaster might just spill off the track , or can\n",
    "damage the track overtime leading to cracks \n",
    "Let us assume that our curve in the horizontal plane\n",
    "and is at a height h ; roller coaster is initial given a\n",
    "total energy of U.\n"
   ]
  },
  {
   "cell_type": "markdown",
   "id": "2dde6c66-03bb-42ec-bdc3-ad5bd718fd36",
   "metadata": {},
   "source": [
    "MECHANICS BEHIND A CIRCULAR LOOP "
   ]
  },
  {
   "cell_type": "raw",
   "id": "f2824f4f-be21-4f8e-9c39-22f767aba1a9",
   "metadata": {},
   "source": [
    "A very classic Mechanics problem is to find the height (… or the potential energy ) required\n",
    "for a body to complete a loop of radius R freely. In case of frictionless surface, we have that\n",
    "the body must enter the loop with a kinetic energy > 5mgR in order to complete the loop .\n",
    "Refer appendix (1.3) for detailed mechanics analysis of circular loop\n",
    "Since we have not considered friction we can’t just go with this constraint . Adding Friction\n",
    "force to the mix increases the complexity of the problem, also one may ask what is better\n",
    "curve which better to do a “loop de loop” ."
   ]
  },
  {
   "cell_type": "markdown",
   "id": "cd66447a-f855-432d-8e5d-16f315f5c6b9",
   "metadata": {},
   "source": [
    "DESIGNING A THRILL FACTOR "
   ]
  },
  {
   "cell_type": "raw",
   "id": "772e434d-187b-4547-b458-7090c44c1598",
   "metadata": {},
   "source": [
    "In roller coaster , riders want a exciting and thrilling ride . this is a very subjective question\n",
    "as to which roller coaster is more thrilling ?? The following paragraphs is a assumed model\n",
    "to calculate thrill factor for our given roller coaster\n",
    "However, we noticed that the following factors somehow affect the thrilling nature of ride\n",
    "1. Number of features / track elements that constitute the entire ride\n",
    "2. Types of features\n",
    "a. Loops\n",
    "b. Banked turns\n",
    "c. Special features which won’t affect the track itself ; like head chopper ,\n",
    "tunnels , and other features\n",
    "d. Upside down section\n",
    "e. Climbs and drop\n",
    "More the variety more combinations we can make and thereby making if more\n",
    "thrilling\n",
    "3. Lift hill height and maximum velocity\n",
    "4. Variation of speeds and forces experience by the riders\n",
    "5. Sense of unpredictability: if we have similar features back to back we make the\n",
    "ride monotonous and boring and thus not much thrilling.\n",
    "6. Duration of ride\n",
    "7. Other influences like the theme of the park, location of the park and surrounding\n",
    "scenery.\n",
    "8. Overall safety : If we assure that our ride is safe and wont cause motion sickness\n",
    "then more people will be interested in trying out the roller coaster.\n",
    "Now we setup a thrill factor scale by first assigning a thrill coefficient to individual members\n",
    "of the roller coaster\n"
   ]
  },
  {
   "cell_type": "markdown",
   "id": "6db88a9a-ef2d-402b-8d75-af747c72977f",
   "metadata": {},
   "source": [
    "PROFIT MODEL OF ROLLER COASTER"
   ]
  },
  {
   "cell_type": "raw",
   "id": "cdd22670-fdcb-4a17-a1e1-670efcbfe93a",
   "metadata": {},
   "source": [
    "The strategic profit model (SPM) measures the return on net worth (RONW) of a\n",
    "company. RONW is a tool that is used to measure the increase or decrease in the\n",
    "shareholder value of an organization. RONW is made up of three basic\n",
    "components namely:\n",
    "a. net profit\n",
    "b. asset turnover\n",
    "c. financial leverage.\n",
    "• These components can be controlled by the managers of a company.\n",
    "• Net profit is defined as the difference between sales and expenses. Related to net\n",
    "profit is a margin of a company which is a percentage of sales. This measures\n",
    "how efficiently a company manufactures the products.\n",
    "• Asset turnover, which is the sales divided by the total assets of a company, shows\n",
    "how efficiently the company employs its assets in order to achieve a certain level\n",
    "of sales. The return on assets (ROA) of a company is calculated by multiplying\n",
    "the net profit margin with the asset turnover.\n",
    "• The financial leverage of a company provides a relationship between the total\n",
    "equity (liabilities and shareholder’s equity) of the firm and the amount invested\n",
    "by the shareholders. Since total equity is equal to total assets, financial leverage\n",
    "is the total assets under the control of management divided by the net worth or\n",
    "amount of shareholder’s investment in the company.\n",
    "From these financial figures, the RONW is obtained by multiplying the return on assets by\n",
    "the financial leverage. This provides an indication of how well a company is utilizing the\n",
    "investment made by their shareholders.\n"
   ]
  },
  {
   "cell_type": "markdown",
   "id": "3f8bd6e7-5a5a-4115-ba01-7fcc15ad21ee",
   "metadata": {},
   "source": [
    "Assumptions"
   ]
  },
  {
   "cell_type": "raw",
   "id": "f8723d9f-06f7-4cf8-9133-5deb7ab622b3",
   "metadata": {},
   "source": [
    "There are several assumptions that have been made in using the SPM model to analyze the\n",
    "main players of our roller costar industry. For the purpose of this exercise, and in the spirit\n",
    "of comparison, it is assumed that this industry competes in the same market making the\n",
    "comparisons more valid and meaningful."
   ]
  },
  {
   "cell_type": "markdown",
   "id": "1c34751f-c6ea-4d0b-b473-62ce15e81ff5",
   "metadata": {},
   "source": [
    "Strategic profit model (SPM) assumptions:"
   ]
  },
  {
   "cell_type": "raw",
   "id": "2cb38361-7c85-4535-9cc0-c4dd5cb80109",
   "metadata": {},
   "source": [
    "The model assumes that the total gross margin is the sum of the tickets sold and\n",
    "refreshment. This is to overcome the difference in definitions of these terms among the\n",
    "companies to enable comparison.\n",
    "The SPM is designed to allow changes of one variable to be monitored. However, in the case\n",
    "of sales, the model has been modified. Changes in sales cause changes in the total return on\n",
    "assets. For instance, when sales of tickets will increase, the level of turnover of assets and\n",
    "the returning of assets will also increase. The value of these two variables as a percentage of\n",
    "sales is first calculated. It is also assumed that when changing any of the other variables\n",
    "(excluding sales), the remaining variables remain unchanged.\n",
    "The variables that can be altered for this model are sales of tickets, refreshments and fixed\n",
    "assets. Fixed expenses are not controllable in the short-run since most rentals and insurance\n",
    "policies that constitute this variable, are over a long period of time (30–40 years). In\n",
    "addition, changes in the cash reserves of a company will not lead to significant changes in\n",
    "the total assets since the cash will be reinvested into the business.\n"
   ]
  },
  {
   "cell_type": "markdown",
   "id": "9c74708d-6345-4cd1-ab53-51ddfa9710c0",
   "metadata": {},
   "source": [
    "Conclusion:"
   ]
  },
  {
   "cell_type": "raw",
   "id": "703d9159-2a5f-43e0-ab9f-808e22022e42",
   "metadata": {},
   "source": [
    "A methodology for the accurate description of three dimensional track geometries is\n",
    "proposed. Cubic, Akima and shape preserving splines are proposed for track\n",
    "parameterisation. The track description uses Frenet frames that provide the track\n",
    "referential at every point. During dynamic analysis a pre-calculated database is linearly\n",
    "interpolated to form the kinematic constraints that enforce the wheelsets of the vehicle to\n",
    "move along the track with a prescribed angular orientation. This approach allows\n",
    "calculating the reaction forces that develop between the vehicle and the track. The\n",
    "formulation is discussed emphasising the influence of the parameterisation methods to\n",
    "construct the track geometry."
   ]
  }
 ],
 "metadata": {
  "kernelspec": {
   "display_name": "Python 3 (ipykernel)",
   "language": "python",
   "name": "python3"
  },
  "language_info": {
   "codemirror_mode": {
    "name": "ipython",
    "version": 3
   },
   "file_extension": ".py",
   "mimetype": "text/x-python",
   "name": "python",
   "nbconvert_exporter": "python",
   "pygments_lexer": "ipython3",
   "version": "3.10.1"
  }
 },
 "nbformat": 4,
 "nbformat_minor": 5
}
